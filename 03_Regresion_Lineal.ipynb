{
 "cells": [
  {
   "cell_type": "markdown",
   "id": "ed2e3947",
   "metadata": {},
   "source": [
    "# Regresión Lineal\n",
    "Este notebook muestra cómo predecir un valor numérico continuo usando regresión lineal."
   ]
  },
  {
   "cell_type": "code",
   "execution_count": null,
   "id": "7250d378",
   "metadata": {},
   "outputs": [],
   "source": [
    "import numpy as np\n",
    "import matplotlib.pyplot as plt\n",
    "from sklearn.linear_model import LinearRegression\n",
    "from sklearn.model_selection import train_test_split"
   ]
  },
  {
   "cell_type": "markdown",
   "id": "6c0364e7",
   "metadata": {},
   "source": [
    "## Generar datos\n",
    "Creamos datos sintéticos con relación lineal para entrenar el modelo."
   ]
  },
  {
   "cell_type": "code",
   "execution_count": null,
   "id": "04445c47",
   "metadata": {},
   "outputs": [],
   "source": [
    "X = np.random.rand(100, 1) * 10\n",
    "y = 3 * X.squeeze() + np.random.randn(100) * 2\n",
    "X_train, X_test, y_train, y_test = train_test_split(X, y, test_size=0.2)"
   ]
  },
  {
   "cell_type": "markdown",
   "id": "3ddec9cf",
   "metadata": {},
   "source": [
    "## Entrenar modelo\n",
    "Ajustamos la línea de regresión a los datos."
   ]
  },
  {
   "cell_type": "code",
   "execution_count": null,
   "id": "8414ab7e",
   "metadata": {},
   "outputs": [],
   "source": [
    "modelo = LinearRegression()\n",
    "modelo.fit(X_train, y_train)"
   ]
  },
  {
   "cell_type": "markdown",
   "id": "ae41dc43",
   "metadata": {},
   "source": [
    "## Coeficientes y visualización\n",
    "Mostramos la pendiente, el intercepto y la gráfica."
   ]
  },
  {
   "cell_type": "code",
   "execution_count": null,
   "id": "2cca5b3a",
   "metadata": {},
   "outputs": [],
   "source": [
    "print('Coeficiente:', modelo.coef_)\n",
    "print('Intercepto:', modelo.intercept_)\n",
    "plt.scatter(X, y)\n",
    "plt.plot(X, modelo.predict(X), color='red')\n",
    "plt.title('Regresión Lineal')\n",
    "plt.show()"
   ]
  }
 ],
 "metadata": {},
 "nbformat": 4,
 "nbformat_minor": 5
}
