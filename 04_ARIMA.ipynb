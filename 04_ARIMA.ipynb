{
 "cells": [
  {
   "cell_type": "markdown",
   "id": "148aa20d",
   "metadata": {},
   "source": [
    "# ARIMA (Series de Tiempo)\n",
    "Este notebook muestra cómo usar el modelo ARIMA para predecir valores futuros en series temporales."
   ]
  },
  {
   "cell_type": "code",
   "execution_count": null,
   "id": "92097fd0",
   "metadata": {},
   "outputs": [],
   "source": [
    "import pandas as pd\n",
    "import matplotlib.pyplot as plt\n",
    "from statsmodels.tsa.arima.model import ARIMA"
   ]
  },
  {
   "cell_type": "markdown",
   "id": "84fc1613",
   "metadata": {},
   "source": [
    "## Crear serie de tiempo\n",
    "Generamos una serie sintética con tendencia."
   ]
  },
  {
   "cell_type": "code",
   "execution_count": null,
   "id": "ff7ca8e7",
   "metadata": {},
   "outputs": [],
   "source": [
    "datos = pd.Series([30 + i*0.5 + (i % 3) for i in range(50)])"
   ]
  },
  {
   "cell_type": "markdown",
   "id": "cd844cb3",
   "metadata": {},
   "source": [
    "## Entrenar modelo ARIMA\n",
    "Aplicamos ARIMA con parámetros (2,1,1)."
   ]
  },
  {
   "cell_type": "code",
   "execution_count": null,
   "id": "61cd7548",
   "metadata": {},
   "outputs": [],
   "source": [
    "modelo = ARIMA(datos, order=(2,1,1))\n",
    "modelo_entrenado = modelo.fit()\n",
    "pred = modelo_entrenado.forecast(steps=10)\n",
    "print(pred)"
   ]
  },
  {
   "cell_type": "markdown",
   "id": "3bbaafa8",
   "metadata": {},
   "source": [
    "## Visualizar predicción"
   ]
  },
  {
   "cell_type": "code",
   "execution_count": null,
   "id": "f5a4be30",
   "metadata": {},
   "outputs": [],
   "source": [
    "plt.plot(datos, label='Original')\n",
    "plt.plot(range(50, 60), pred, label='Forecast', color='red')\n",
    "plt.legend()\n",
    "plt.show()"
   ]
  }
 ],
 "metadata": {},
 "nbformat": 4,
 "nbformat_minor": 5
}
