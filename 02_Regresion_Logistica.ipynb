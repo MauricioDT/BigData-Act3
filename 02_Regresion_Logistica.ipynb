{
 "cells": [
  {
   "cell_type": "markdown",
   "id": "1b9764fe",
   "metadata": {},
   "source": [
    "# Regresión Logística\n",
    "Este notebook utiliza regresión logística para predecir cáncer de mama usando el dataset de Breast Cancer."
   ]
  },
  {
   "cell_type": "code",
   "execution_count": null,
   "id": "f122b864",
   "metadata": {},
   "outputs": [],
   "source": [
    "from sklearn.datasets import load_breast_cancer\n",
    "from sklearn.linear_model import LogisticRegression\n",
    "from sklearn.model_selection import train_test_split\n",
    "from sklearn.metrics import accuracy_score"
   ]
  },
  {
   "cell_type": "markdown",
   "id": "9491b08c",
   "metadata": {},
   "source": [
    "## Cargar datos\n",
    "Utilizamos datos sobre características de tumores."
   ]
  },
  {
   "cell_type": "code",
   "execution_count": null,
   "id": "82d94aee",
   "metadata": {},
   "outputs": [],
   "source": [
    "X, y = load_breast_cancer(return_X_y=True)\n",
    "X_train, X_test, y_train, y_test = train_test_split(X, y, test_size=0.3)"
   ]
  },
  {
   "cell_type": "markdown",
   "id": "121a677a",
   "metadata": {},
   "source": [
    "## Entrenar el modelo\n",
    "Creamos y entrenamos el modelo de regresión logística."
   ]
  },
  {
   "cell_type": "code",
   "execution_count": null,
   "id": "ec6157f5",
   "metadata": {},
   "outputs": [],
   "source": [
    "modelo = LogisticRegression(max_iter=10000)\n",
    "modelo.fit(X_train, y_train)"
   ]
  },
  {
   "cell_type": "markdown",
   "id": "5948bca4",
   "metadata": {},
   "source": [
    "## Evaluación del modelo\n",
    "Hacemos predicciones y medimos su precisión."
   ]
  },
  {
   "cell_type": "code",
   "execution_count": null,
   "id": "bfe5e861",
   "metadata": {},
   "outputs": [],
   "source": [
    "pred = modelo.predict(X_test)\n",
    "print('Precisión:', accuracy_score(y_test, pred))"
   ]
  }
 ],
 "metadata": {},
 "nbformat": 4,
 "nbformat_minor": 5
}
