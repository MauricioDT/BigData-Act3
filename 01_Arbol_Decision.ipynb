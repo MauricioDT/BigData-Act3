{
 "cells": [
  {
   "cell_type": "markdown",
   "id": "5594294e",
   "metadata": {},
   "source": [
    "# Árbol de Decisión (Clasificación)\n",
    "Este notebook muestra cómo usar un árbol de decisión para clasificar datos del conjunto Iris."
   ]
  },
  {
   "cell_type": "code",
   "execution_count": null,
   "id": "aa2f1c9a",
   "metadata": {},
   "outputs": [],
   "source": [
    "from sklearn.datasets import load_iris\n",
    "from sklearn.tree import DecisionTreeClassifier\n",
    "from sklearn.model_selection import train_test_split\n",
    "from sklearn.metrics import accuracy_score"
   ]
  },
  {
   "cell_type": "markdown",
   "id": "eb3dc230",
   "metadata": {},
   "source": [
    "## Cargar datos\n",
    "Usamos el dataset Iris, que contiene características de flores y su especie."
   ]
  },
  {
   "cell_type": "code",
   "execution_count": null,
   "id": "30f20906",
   "metadata": {},
   "outputs": [],
   "source": [
    "X, y = load_iris(return_X_y=True)\n",
    "X_train, X_test, y_train, y_test = train_test_split(X, y, test_size=0.3)"
   ]
  },
  {
   "cell_type": "markdown",
   "id": "a4a8681b",
   "metadata": {},
   "source": [
    "## Entrenar el modelo\n",
    "Creamos un árbol de decisión y lo entrenamos con los datos."
   ]
  },
  {
   "cell_type": "code",
   "execution_count": null,
   "id": "463d0a6f",
   "metadata": {},
   "outputs": [],
   "source": [
    "modelo = DecisionTreeClassifier()\n",
    "modelo.fit(X_train, y_train)"
   ]
  },
  {
   "cell_type": "markdown",
   "id": "3bfa5d80",
   "metadata": {},
   "source": [
    "## Evaluación del modelo\n",
    "Hacemos predicciones y calculamos la precisión."
   ]
  },
  {
   "cell_type": "code",
   "execution_count": null,
   "id": "011a0a47",
   "metadata": {},
   "outputs": [],
   "source": [
    "pred = modelo.predict(X_test)\n",
    "print('Precisión:', accuracy_score(y_test, pred))"
   ]
  }
 ],
 "metadata": {},
 "nbformat": 4,
 "nbformat_minor": 5
}
