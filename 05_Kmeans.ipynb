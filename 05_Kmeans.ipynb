{
 "cells": [
  {
   "cell_type": "markdown",
   "id": "886cb79e",
   "metadata": {},
   "source": [
    "# K-means Clustering\n",
    "Este notebook aplica K-means para agrupar datos en clústeres."
   ]
  },
  {
   "cell_type": "code",
   "execution_count": null,
   "id": "d7e51a8f",
   "metadata": {},
   "outputs": [],
   "source": [
    "import matplotlib.pyplot as plt\n",
    "from sklearn.datasets import make_blobs\n",
    "from sklearn.cluster import KMeans"
   ]
  },
  {
   "cell_type": "markdown",
   "id": "5f80782c",
   "metadata": {},
   "source": [
    "## Crear datos simulados\n",
    "Generamos datos de 3 grupos para aplicar clustering."
   ]
  },
  {
   "cell_type": "code",
   "execution_count": null,
   "id": "578239f1",
   "metadata": {},
   "outputs": [],
   "source": [
    "X, _ = make_blobs(n_samples=200, centers=3, random_state=42)"
   ]
  },
  {
   "cell_type": "markdown",
   "id": "d9ff0b3c",
   "metadata": {},
   "source": [
    "## Aplicar K-means\n",
    "Agrupamos en 3 clústeres."
   ]
  },
  {
   "cell_type": "code",
   "execution_count": null,
   "id": "3d457974",
   "metadata": {},
   "outputs": [],
   "source": [
    "modelo = KMeans(n_clusters=3)\n",
    "modelo.fit(X)\n",
    "labels = modelo.labels_"
   ]
  },
  {
   "cell_type": "markdown",
   "id": "7f4bc9fc",
   "metadata": {},
   "source": [
    "## Visualizar clústeres"
   ]
  },
  {
   "cell_type": "code",
   "execution_count": null,
   "id": "1ebd4189",
   "metadata": {},
   "outputs": [],
   "source": [
    "plt.scatter(X[:, 0], X[:, 1], c=labels, cmap='viridis')\n",
    "plt.scatter(modelo.cluster_centers_[:,0], modelo.cluster_centers_[:,1], color='red', marker='x')\n",
    "plt.title('K-means clustering')\n",
    "plt.show()"
   ]
  }
 ],
 "metadata": {},
 "nbformat": 4,
 "nbformat_minor": 5
}
