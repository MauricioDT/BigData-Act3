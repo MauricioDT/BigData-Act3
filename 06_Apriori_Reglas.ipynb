{
 "cells": [
  {
   "cell_type": "markdown",
   "id": "dcc5c840",
   "metadata": {},
   "source": [
    "# Apriori (Reglas de Asociación)\n",
    "Este notebook encuentra patrones de compra frecuentes usando el algoritmo Apriori."
   ]
  },
  {
   "cell_type": "code",
   "execution_count": null,
   "id": "1e946b86",
   "metadata": {},
   "outputs": [],
   "source": [
    "import pandas as pd\n",
    "from mlxtend.frequent_patterns import apriori, association_rules"
   ]
  },
  {
   "cell_type": "markdown",
   "id": "eda4876f",
   "metadata": {},
   "source": [
    "## Crear conjunto de datos tipo supermercado"
   ]
  },
  {
   "cell_type": "code",
   "execution_count": null,
   "id": "fe467b1d",
   "metadata": {},
   "outputs": [],
   "source": [
    "df = pd.DataFrame([\n",
    "  [1,1,0,0],\n",
    "  [1,1,1,0],\n",
    "  [0,1,1,1],\n",
    "  [1,0,0,1]\n",
    "], columns=['Pan', 'Mantequilla', 'Leche', 'Cereal'])"
   ]
  },
  {
   "cell_type": "markdown",
   "id": "4a4ab89c",
   "metadata": {},
   "source": [
    "## Obtener conjuntos frecuentes\n",
    "Filtramos por soporte mínimo del 50%."
   ]
  },
  {
   "cell_type": "code",
   "execution_count": null,
   "id": "2da6c67f",
   "metadata": {},
   "outputs": [],
   "source": [
    "frecuentes = apriori(df, min_support=0.5, use_colnames=True)\n",
    "print(frecuentes)"
   ]
  },
  {
   "cell_type": "markdown",
   "id": "3e371324",
   "metadata": {},
   "source": [
    "## Generar reglas de asociación\n",
    "Calculamos confianza y soporte."
   ]
  },
  {
   "cell_type": "code",
   "execution_count": null,
   "id": "3165295e",
   "metadata": {},
   "outputs": [],
   "source": [
    "reglas = association_rules(frecuentes, metric='confidence', min_threshold=0.7)\n",
    "print(reglas[['antecedents', 'consequents', 'support', 'confidence']])"
   ]
  }
 ],
 "metadata": {},
 "nbformat": 4,
 "nbformat_minor": 5
}
